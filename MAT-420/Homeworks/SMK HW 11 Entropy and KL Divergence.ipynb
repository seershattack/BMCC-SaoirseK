{
 "cells": [
  {
   "cell_type": "code",
   "execution_count": 28,
   "id": "e52cefcb-8a71-4b18-bd8f-0dcf7d15bbca",
   "metadata": {},
   "outputs": [],
   "source": [
    "import numpy as np\n",
    "from scipy.stats import entropy"
   ]
  },
  {
   "cell_type": "markdown",
   "id": "21de8972-f297-4861-b6d5-08273364c532",
   "metadata": {},
   "source": [
    "## Problem set 1:\n",
    "![alt text](Entropy_Page_1.png)"
   ]
  },
  {
   "cell_type": "markdown",
   "id": "fce368b9-2408-4797-8487-92902bf66154",
   "metadata": {},
   "source": [
    "![alt text](Entropy_Page_2.png)"
   ]
  },
  {
   "cell_type": "markdown",
   "id": "2199a94a-e79d-4949-a8f7-22ac1996558f",
   "metadata": {},
   "source": [
    "## Problem set 2:\n",
    "\n",
    "### 1. "
   ]
  },
  {
   "cell_type": "code",
   "execution_count": 6,
   "id": "82eed352-f731-4317-bc24-2ecbde72dad8",
   "metadata": {},
   "outputs": [],
   "source": [
    "P = ([0.5, 0.3, 0.1, 0.1])\n",
    "\n",
    "Q = ([0.55, 0.25, 0.05, 0.15])\n",
    "R = ([0.4, 0.3, 0.15, 0.15])"
   ]
  },
  {
   "cell_type": "code",
   "execution_count": 8,
   "id": "1606a95a-b622-4366-a2ca-935fe08cb132",
   "metadata": {},
   "outputs": [
    {
     "data": {
      "text/plain": [
       "np.float64(0.03580958438120201)"
      ]
     },
     "execution_count": 8,
     "metadata": {},
     "output_type": "execute_result"
    }
   ],
   "source": [
    "entropy(P, Q)"
   ]
  },
  {
   "cell_type": "code",
   "execution_count": 10,
   "id": "18a577e3-f9dd-4cea-b0d7-28a19f40a7d8",
   "metadata": {},
   "outputs": [
    {
     "data": {
      "text/plain": [
       "np.float64(0.030478754035472004)"
      ]
     },
     "execution_count": 10,
     "metadata": {},
     "output_type": "execute_result"
    }
   ],
   "source": [
    "entropy(P, R) # Smaller so R is closer"
   ]
  },
  {
   "cell_type": "markdown",
   "id": "f788cc06-a549-4f73-a37a-31442cf62111",
   "metadata": {},
   "source": [
    "**ANSWER: R is \"closer\" to the distribution of P**"
   ]
  },
  {
   "cell_type": "markdown",
   "id": "2dc44a83-844c-48bc-9364-2ca92f77c336",
   "metadata": {},
   "source": [
    "### 2."
   ]
  },
  {
   "cell_type": "code",
   "execution_count": 23,
   "id": "ef8a5a06-8fcc-4175-8376-90e873763860",
   "metadata": {},
   "outputs": [],
   "source": [
    "largeP = [np.random.choice(np.arange(1, 5), p = [0.5, 0.3, 0.1, 0.1]) for i in range(1000)]"
   ]
  },
  {
   "cell_type": "code",
   "execution_count": 24,
   "id": "8d9359ac-3ba4-4d0f-8986-423f9ca20bd7",
   "metadata": {},
   "outputs": [],
   "source": [
    "largeQ = [np.random.choice(np.arange(1, 5), p = [0.55, 0.25, 0.05, 0.15]) for i in range(1000)]"
   ]
  },
  {
   "cell_type": "code",
   "execution_count": 25,
   "id": "199a160a-23b3-49ca-85a4-4fbeb68e7f54",
   "metadata": {},
   "outputs": [],
   "source": [
    "largeR = [np.random.choice(np.arange(1, 5), p = [0.4, 0.3, 0.15, 0.15]) for i in range(1000)]"
   ]
  },
  {
   "cell_type": "code",
   "execution_count": 26,
   "id": "a57564a0-e867-4983-aba7-a80ef2ff221e",
   "metadata": {},
   "outputs": [
    {
     "data": {
      "text/plain": [
       "np.float64(0.28732916323914864)"
      ]
     },
     "execution_count": 26,
     "metadata": {},
     "output_type": "execute_result"
    }
   ],
   "source": [
    "entropy(largeP, largeQ)"
   ]
  },
  {
   "cell_type": "code",
   "execution_count": 27,
   "id": "5ec33a9f-ff70-4bcb-8635-e5ec67a94609",
   "metadata": {},
   "outputs": [
    {
     "data": {
      "text/plain": [
       "np.float64(0.2590018483121247)"
      ]
     },
     "execution_count": 27,
     "metadata": {},
     "output_type": "execute_result"
    }
   ],
   "source": [
    "entropy(largeP, largeR)"
   ]
  },
  {
   "cell_type": "markdown",
   "id": "13f8a42c-48e6-4b06-a2a9-8f1ca5a39bc9",
   "metadata": {},
   "source": [
    "**Results are similar but smaller. Overall they both have lower KL divergence with R still being \"closer\".**"
   ]
  }
 ],
 "metadata": {
  "kernelspec": {
   "display_name": "Python 3 (ipykernel)",
   "language": "python",
   "name": "python3"
  },
  "language_info": {
   "codemirror_mode": {
    "name": "ipython",
    "version": 3
   },
   "file_extension": ".py",
   "mimetype": "text/x-python",
   "name": "python",
   "nbconvert_exporter": "python",
   "pygments_lexer": "ipython3",
   "version": "3.13.5"
  }
 },
 "nbformat": 4,
 "nbformat_minor": 5
}
