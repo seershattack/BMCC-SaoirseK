{
 "cells": [
  {
   "cell_type": "code",
   "execution_count": 1,
   "id": "5157fc85-9175-441c-a103-06a7efa71b22",
   "metadata": {},
   "outputs": [],
   "source": [
    "import pandas as pd"
   ]
  },
  {
   "cell_type": "code",
   "execution_count": 2,
   "id": "c805f365-4bc3-4fec-99e9-41d0cd6aec21",
   "metadata": {},
   "outputs": [],
   "source": [
    "dfm1 = pd.read_csv('regional_averages_month01.txt', sep = ';', engine = 'python', skiprows = 1)\n",
    "dfm2 = pd.read_csv('regional_averages_month02.txt', sep = ';', engine = 'python', skiprows = 1)\n",
    "dfm3 = pd.read_csv('regional_averages_month03.txt', sep = ';', engine = 'python', skiprows = 1)\n",
    "dfm4 = pd.read_csv('regional_averages_month04.txt', sep = ';', engine = 'python', skiprows = 1)\n",
    "dfm5 = pd.read_csv('regional_averages_month05.txt', sep = ';', engine = 'python', skiprows = 1)\n",
    "dfm6 = pd.read_csv('regional_averages_month06.txt', sep = ';', engine = 'python', skiprows = 1)\n",
    "dfm7 = pd.read_csv('regional_averages_month07.txt', sep = ';', engine = 'python', skiprows = 1)\n",
    "dfm8 = pd.read_csv('regional_averages_month08.txt', sep = ';', engine = 'python', skiprows = 1)\n",
    "dfm9 = pd.read_csv('regional_averages_month09.txt', sep = ';', engine = 'python', skiprows = 1)\n",
    "dfm10 = pd.read_csv('regional_averages_month10.txt', sep = ';', engine = 'python', skiprows = 1)\n",
    "dfm11 = pd.read_csv('regional_averages_month11.txt', sep = ';', engine = 'python', skiprows = 1)\n",
    "dfm12 = pd.read_csv('regional_averages_month12.txt', sep = ';', engine = 'python', skiprows = 1)"
   ]
  },
  {
   "cell_type": "code",
   "execution_count": 4,
   "id": "9d651135-09fb-4aa4-bbd9-e81ad520524c",
   "metadata": {},
   "outputs": [],
   "source": [
    "dfs = [dfm1, dfm2, dfm3, dfm4, dfm5, dfm6, dfm7, dfm8, dfm9, dfm10, dfm11, dfm12]\n",
    "dfm = pd.concat(dfs, axis = 0, ignore_index = True)"
   ]
  },
  {
   "cell_type": "code",
   "execution_count": 9,
   "id": "d1133d9f-7adf-4c27-a53f-8e1c5f9a82f2",
   "metadata": {},
   "outputs": [],
   "source": [
    "dfm['Jahr'] = pd.to_numeric(dfm['Jahr'], errors = 'coerce')\n",
    "dfm['Monat'] = pd.to_numeric(dfm['Monat'], errors = 'coerce')"
   ]
  },
  {
   "cell_type": "code",
   "execution_count": 10,
   "id": "4086f52a-43c5-434d-82b3-c6adc42b4ade",
   "metadata": {},
   "outputs": [],
   "source": [
    "dfm = dfm.sort_values(by = ['Jahr', 'Monat'], ascending = [True, True], ignore_index = True)"
   ]
  },
  {
   "cell_type": "code",
   "execution_count": 11,
   "id": "eddbe0df-b7d1-40a4-bf6f-dfec7f14f89d",
   "metadata": {},
   "outputs": [],
   "source": [
    "dfm.to_excel('Precipitation_Regional_Monthly_Averages.xlsx', index = False)"
   ]
  },
  {
   "cell_type": "code",
   "execution_count": 13,
   "id": "eb0d6069-ac1c-4013-aa27-d7944a033f47",
   "metadata": {},
   "outputs": [
    {
     "data": {
      "text/plain": [
       "2"
      ]
     },
     "execution_count": 13,
     "metadata": {},
     "output_type": "execute_result"
    }
   ],
   "source": [
    "5 % 3"
   ]
  },
  {
   "cell_type": "code",
   "execution_count": null,
   "id": "a7c3e3d2-e498-4e82-a359-8de6f047aa1a",
   "metadata": {},
   "outputs": [],
   "source": []
  }
 ],
 "metadata": {
  "kernelspec": {
   "display_name": "Python 3 (ipykernel)",
   "language": "python",
   "name": "python3"
  },
  "language_info": {
   "codemirror_mode": {
    "name": "ipython",
    "version": 3
   },
   "file_extension": ".py",
   "mimetype": "text/x-python",
   "name": "python",
   "nbconvert_exporter": "python",
   "pygments_lexer": "ipython3",
   "version": "3.13.5"
  }
 },
 "nbformat": 4,
 "nbformat_minor": 5
}
