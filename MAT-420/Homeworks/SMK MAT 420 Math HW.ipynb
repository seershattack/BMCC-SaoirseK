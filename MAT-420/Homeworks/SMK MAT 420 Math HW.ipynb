{
 "cells": [
  {
   "cell_type": "code",
   "execution_count": 1,
   "id": "71899567-cca5-41c9-9a84-2e825eea27d6",
   "metadata": {},
   "outputs": [],
   "source": [
    "import numpy as np\n",
    "import matplotlib.pyplot as plt"
   ]
  },
  {
   "cell_type": "code",
   "execution_count": 4,
   "id": "f3ac494e-4b9c-4586-935c-e42a5101dd4b",
   "metadata": {},
   "outputs": [],
   "source": [
    "A = np.array([[1, 2, 2], [2, 0, -2], [-1, 3, -2]])\n",
    "B = np.array([[-3, 0],[1, 3], [-2, 2]])\n",
    "x = np.array([2, 2, -3])"
   ]
  },
  {
   "cell_type": "code",
   "execution_count": 6,
   "id": "a9f949c2-7466-4d02-acea-33faf2a8b012",
   "metadata": {},
   "outputs": [
    {
     "data": {
      "text/plain": [
       "array([[-5, 10],\n",
       "       [-2, -4],\n",
       "       [10,  5]])"
      ]
     },
     "execution_count": 6,
     "metadata": {},
     "output_type": "execute_result"
    }
   ],
   "source": [
    "A @ B"
   ]
  },
  {
   "cell_type": "code",
   "execution_count": 7,
   "id": "3f9d6390-701d-4b2e-bda1-ce8ca31fc6ee",
   "metadata": {},
   "outputs": [
    {
     "data": {
      "text/plain": [
       "np.int64(17)"
      ]
     },
     "execution_count": 7,
     "metadata": {},
     "output_type": "execute_result"
    }
   ],
   "source": [
    "x.T @ x"
   ]
  },
  {
   "cell_type": "code",
   "execution_count": null,
   "id": "4471a452-fbc4-4c35-9692-f88835165235",
   "metadata": {},
   "outputs": [],
   "source": []
  }
 ],
 "metadata": {
  "kernelspec": {
   "display_name": "Python 3 (ipykernel)",
   "language": "python",
   "name": "python3"
  },
  "language_info": {
   "codemirror_mode": {
    "name": "ipython",
    "version": 3
   },
   "file_extension": ".py",
   "mimetype": "text/x-python",
   "name": "python",
   "nbconvert_exporter": "python",
   "pygments_lexer": "ipython3",
   "version": "3.13.5"
  }
 },
 "nbformat": 4,
 "nbformat_minor": 5
}
